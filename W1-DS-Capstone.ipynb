import pandas as pd
import numpy as np
<<<<<<< HEAD
print('Hello Capstone Project Course!')
=======
Print('Hello Capstone Project Course!')
>>>>>>> ced474f89fb40e95114b1657c3bc4a4f8200260d
